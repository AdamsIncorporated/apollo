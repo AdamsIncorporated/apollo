{
 "cells": [
  {
   "cell_type": "code",
   "execution_count": null,
   "metadata": {},
   "outputs": [],
   "source": [
    "import requests\n",
    "import json"
   ]
  },
  {
   "cell_type": "code",
   "execution_count": 3,
   "metadata": {},
   "outputs": [
    {
     "name": "stdout",
     "output_type": "stream",
     "text": [
      "{'marketSummaryResponse': {'result': [{'fullExchangeName': 'NY Mercantile', 'symbol': 'CL=F', 'headSymbolAsString': 'CL=F', 'gmtOffSetMilliseconds': -14400000, 'language': 'en-US', 'regularMarketTime': {'raw': 1742919596, 'fmt': '12:19PM EDT'}, 'regularMarketChangePercent': {'raw': -0.81029886, 'fmt': '-0.81%'}, 'headSymbol': True, 'quoteType': 'FUTURE', 'typeDisp': 'Futures', 'contractSymbol': False, 'tradeable': False, 'regularMarketPreviousClose': {'raw': 69.11, 'fmt': '69.11'}, 'exchangeTimezoneName': 'America/New_York', 'regularMarketChange': {'raw': -0.55999756, 'fmt': '-0.56'}, 'cryptoTradeable': False, 'exchangeDataDelayedBy': 10, 'firstTradeDateMilliseconds': 967003200000, 'exchangeTimezoneShortName': 'EDT', 'hasPrePostMarketData': False, 'regularMarketPrice': {'raw': 68.55, 'fmt': '68.55'}, 'marketState': 'REGULAR', 'customPriceAlertConfidence': 'NONE', 'market': 'us24_market', 'quoteSourceName': 'Delayed Quote', 'exchange': 'NYM', 'sourceInterval': 30, 'shortName': 'Crude Oil', 'region': 'US', 'triggerable': False}, {'fullExchangeName': 'COMEX', 'symbol': 'GC=F', 'headSymbolAsString': 'GC=F', 'gmtOffSetMilliseconds': -14400000, 'language': 'en-US', 'regularMarketTime': {'raw': 1742919584, 'fmt': '12:19PM EDT'}, 'regularMarketChangePercent': {'raw': 0.401242, 'fmt': '0.40%'}, 'headSymbol': True, 'quoteType': 'FUTURE', 'typeDisp': 'Futures', 'contractSymbol': False, 'tradeable': False, 'regularMarketPreviousClose': {'raw': 3015.6, 'fmt': '3,015.60'}, 'exchangeTimezoneName': 'America/New_York', 'regularMarketChange': {'raw': 12.0998535, 'fmt': '12.10'}, 'cryptoTradeable': False, 'exchangeDataDelayedBy': 10, 'firstTradeDateMilliseconds': 967608000000, 'exchangeTimezoneShortName': 'EDT', 'hasPrePostMarketData': False, 'regularMarketPrice': {'raw': 3027.7, 'fmt': '3,027.70'}, 'marketState': 'REGULAR', 'customPriceAlertConfidence': 'NONE', 'market': 'us24_market', 'quoteSourceName': 'Delayed Quote', 'exchange': 'CMX', 'sourceInterval': 15, 'shortName': 'Gold', 'region': 'US', 'triggerable': False}, {'fullExchangeName': 'COMEX', 'symbol': 'SI=F', 'headSymbolAsString': 'SI=F', 'gmtOffSetMilliseconds': -14400000, 'language': 'en-US', 'regularMarketTime': {'raw': 1742919593, 'fmt': '12:19PM EDT'}, 'regularMarketChangePercent': {'raw': 2.2122507, 'fmt': '2.21%'}, 'headSymbol': True, 'quoteType': 'FUTURE', 'typeDisp': 'Futures', 'contractSymbol': False, 'tradeable': False, 'regularMarketPreviousClose': {'raw': 33.45, 'fmt': '33.45'}, 'exchangeTimezoneName': 'America/New_York', 'regularMarketChange': {'raw': 0.73999786, 'fmt': '0.74'}, 'cryptoTradeable': False, 'exchangeDataDelayedBy': 10, 'firstTradeDateMilliseconds': 967608000000, 'exchangeTimezoneShortName': 'EDT', 'hasPrePostMarketData': False, 'regularMarketPrice': {'raw': 34.19, 'fmt': '34.19'}, 'marketState': 'REGULAR', 'customPriceAlertConfidence': 'NONE', 'market': 'us24_market', 'quoteSourceName': 'Delayed Quote', 'exchange': 'CMX', 'sourceInterval': 15, 'shortName': 'Silver', 'region': 'US', 'triggerable': False}, {'fullExchangeName': 'COMEX', 'symbol': 'HG=F', 'headSymbolAsString': 'HG=F', 'gmtOffSetMilliseconds': -14400000, 'language': 'en-US', 'regularMarketTime': {'raw': 1742919581, 'fmt': '12:19PM EDT'}, 'regularMarketChangePercent': {'raw': 2.2778535, 'fmt': '2.28%'}, 'headSymbol': True, 'quoteType': 'FUTURE', 'typeDisp': 'Futures', 'contractSymbol': False, 'tradeable': False, 'regularMarketPreviousClose': {'raw': 5.0925, 'fmt': '5.09'}, 'exchangeTimezoneName': 'America/New_York', 'regularMarketChange': {'raw': 0.1159997, 'fmt': '0.12'}, 'cryptoTradeable': False, 'exchangeDataDelayedBy': 10, 'firstTradeDateMilliseconds': 967608000000, 'exchangeTimezoneShortName': 'EDT', 'hasPrePostMarketData': False, 'regularMarketPrice': {'raw': 5.2085, 'fmt': '5.21'}, 'marketState': 'REGULAR', 'customPriceAlertConfidence': 'NONE', 'market': 'us24_market', 'quoteSourceName': 'Delayed Quote', 'exchange': 'CMX', 'sourceInterval': 15, 'shortName': 'Copper May 25', 'region': 'US', 'triggerable': False}, {'fullExchangeName': 'NY Mercantile', 'symbol': 'NG=F', 'headSymbolAsString': 'NG=F', 'gmtOffSetMilliseconds': -14400000, 'language': 'en-US', 'regularMarketTime': {'raw': 1742919594, 'fmt': '12:19PM EDT'}, 'regularMarketChangePercent': {'raw': -0.61318165, 'fmt': '-0.61%'}, 'headSymbol': True, 'quoteType': 'FUTURE', 'typeDisp': 'Futures', 'contractSymbol': False, 'tradeable': False, 'regularMarketPreviousClose': {'raw': 3.914, 'fmt': '3.9140'}, 'exchangeTimezoneName': 'America/New_York', 'regularMarketChange': {'raw': -0.02399993, 'fmt': '-0.0240'}, 'cryptoTradeable': False, 'exchangeDataDelayedBy': 10, 'firstTradeDateMilliseconds': 967608000000, 'exchangeTimezoneShortName': 'EDT', 'hasPrePostMarketData': False, 'regularMarketPrice': {'raw': 3.89, 'fmt': '3.8900'}, 'marketState': 'REGULAR', 'customPriceAlertConfidence': 'NONE', 'market': 'us24_market', 'quoteSourceName': 'Delayed Quote', 'priceHint': 4, 'exchange': 'NYM', 'sourceInterval': 30, 'shortName': 'Natural Gas Apr 25', 'region': 'US', 'triggerable': False}, {'fullExchangeName': 'NY Mercantile', 'symbol': 'BZ=F', 'headSymbolAsString': 'BZ=F', 'gmtOffSetMilliseconds': -14400000, 'language': 'en-US', 'regularMarketTime': {'raw': 1742919583, 'fmt': '12:19PM EDT'}, 'regularMarketChangePercent': {'raw': -0.67708373, 'fmt': '-0.68%'}, 'headSymbol': True, 'quoteType': 'FUTURE', 'typeDisp': 'Futures', 'contractSymbol': False, 'tradeable': False, 'regularMarketPreviousClose': {'raw': 72.37, 'fmt': '72.37'}, 'exchangeTimezoneName': 'America/New_York', 'regularMarketChange': {'raw': -0.4900055, 'fmt': '-0.49'}, 'cryptoTradeable': False, 'exchangeDataDelayedBy': 10, 'firstTradeDateMilliseconds': 1185768000000, 'exchangeTimezoneShortName': 'EDT', 'hasPrePostMarketData': False, 'regularMarketPrice': {'raw': 71.88, 'fmt': '71.88'}, 'marketState': 'REGULAR', 'customPriceAlertConfidence': 'NONE', 'market': 'us24_market', 'quoteSourceName': 'Delayed Quote', 'exchange': 'NYM', 'sourceInterval': 30, 'shortName': 'Brent Crude Oil Last Day Financ', 'region': 'US', 'triggerable': False}], 'marketCategoryLongName': 'COMMODITIES', 'error': None}}\n"
     ]
    }
   ],
   "source": [
    "BASE_URL = \"https://query1.finance.yahoo.com\"\n",
    "REQUEST_HEADER = \"/v6/finance/quote/marketSummary?fields=shortName%2CregularMarketPrice%2CregularMarketChange%2CregularMarketChangePercent&formatted=true&lang=en-US&market=COMMODITIES&region=US&crumb=ntpQC7tSadF\"\n",
    "FULL_URL = BASE_URL + REQUEST_HEADER\n",
    "HEADERS = {\n",
    "        \"User-Agent\": \"Mozilla/5.0 (Windows NT 10.0; Win64; x64) AppleWebKit/537.36 (KHTML, like Gecko) Chrome/91.0.4472.124 Safari/537.36\",\n",
    "}\n",
    "\n",
    "response = requests.get(FULL_URL, headers=HEADERS)\n",
    "response.raise_for_status()\n",
    "data = response.json()\n",
    "print(data)"
   ]
  }
 ],
 "metadata": {
  "kernelspec": {
   "display_name": "Python 3",
   "language": "python",
   "name": "python3"
  },
  "language_info": {
   "codemirror_mode": {
    "name": "ipython",
    "version": 3
   },
   "file_extension": ".py",
   "mimetype": "text/x-python",
   "name": "python",
   "nbconvert_exporter": "python",
   "pygments_lexer": "ipython3",
   "version": "3.12.6"
  }
 },
 "nbformat": 4,
 "nbformat_minor": 2
}
