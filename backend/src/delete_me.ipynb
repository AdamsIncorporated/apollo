{
 "cells": [
  {
   "cell_type": "code",
   "execution_count": 3,
   "metadata": {},
   "outputs": [
    {
     "name": "stdout",
     "output_type": "stream",
     "text": [
      " * Serving Flask app '__main__'\n",
      " * Debug mode: off\n"
     ]
    },
    {
     "name": "stderr",
     "output_type": "stream",
     "text": [
      "WARNING: This is a development server. Do not use it in a production deployment. Use a production WSGI server instead.\n",
      " * Running on https://127.0.0.1:5000\n",
      "Press CTRL+C to quit\n"
     ]
    }
   ],
   "source": [
    "from requests_oauthlib import OAuth2Session\n",
    "from flask import Flask, request, redirect\n",
    "\n",
    "# App details\n",
    "CLIENT_ID = \"dj0yJmk9c2daTGRtb0Z6Y3ZaJmQ9WVdrOVJtcHVUbmhNYjFRbWNHbzlNQT09JnM9Y29uc3VtZXJzZWNyZXQmc3Y9MCZ4PWU2\"\n",
    "CLIENT_SECRET = \"14e2c016ee44116d987a107ffa0c6a2d02530dc2\"\n",
    "AUTHORIZATION_BASE_URL = \"https://api.login.yahoo.com/oauth2/request_auth\"\n",
    "TOKEN_URL = \"https://api.login.yahoo.com/oauth2/get_token\"\n",
    "REDIRECT_URI = \"https://localhost:5000/callback\"\n",
    "\n",
    "# Flask app\n",
    "app = Flask(__name__)\n",
    "\n",
    "@app.route(\"/\")\n",
    "def home():\n",
    "    yahoo = OAuth2Session(CLIENT_ID, redirect_uri=REDIRECT_URI)\n",
    "    authorization_url, state = yahoo.authorization_url(AUTHORIZATION_BASE_URL)\n",
    "    return redirect(authorization_url)\n",
    "\n",
    "@app.route(\"/callback\")\n",
    "def callback():\n",
    "    yahoo = OAuth2Session(CLIENT_ID, redirect_uri=REDIRECT_URI)\n",
    "    token = yahoo.fetch_token(TOKEN_URL, client_secret=CLIENT_SECRET, authorization_response=request.url)\n",
    "    return f\"Access Token: {token}\"\n",
    "\n",
    "if __name__ == \"__main__\":\n",
    "    app.run(ssl_context=\"adhoc\")\n"
   ]
  }
 ],
 "metadata": {
  "kernelspec": {
   "display_name": "Python 3",
   "language": "python",
   "name": "python3"
  },
  "language_info": {
   "codemirror_mode": {
    "name": "ipython",
    "version": 3
   },
   "file_extension": ".py",
   "mimetype": "text/x-python",
   "name": "python",
   "nbconvert_exporter": "python",
   "pygments_lexer": "ipython3",
   "version": "3.12.2"
  }
 },
 "nbformat": 4,
 "nbformat_minor": 2
}
