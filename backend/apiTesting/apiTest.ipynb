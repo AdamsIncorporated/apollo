{
 "cells": [
  {
   "cell_type": "code",
   "execution_count": 2,
   "metadata": {},
   "outputs": [],
   "source": [
    "import requests\n",
    "import json"
   ]
  },
  {
   "cell_type": "code",
   "execution_count": 6,
   "metadata": {},
   "outputs": [],
   "source": [
    "BASE_URL = \"https://query1.finance.yahoo.com\"\n",
    "REQUEST_HEADER = \"/v6/finance/quote/marketSummary?fields=shortName%2CregularMarketPrice%2CregularMarketChange%2CregularMarketChangePercent&formatted=true&lang=en-US&market=COMMODITIES&region=US&crumb=ntpQC7tSadF\"\n",
    "FULL_URL = BASE_URL + REQUEST_HEADER\n",
    "HEADERS = {\n",
    "        \"User-Agent\": \"Mozilla/5.0 (Windows NT 10.0; Win64; x64) AppleWebKit/537.36 (KHTML, like Gecko) Chrome/91.0.4472.124 Safari/537.36\",\n",
    "}\n",
    "\n",
    "response = requests.get(FULL_URL, headers=HEADERS)\n",
    "response.raise_for_status()\n",
    "data = response.json()\n",
    "with open(\"output.json\", 'w') as file:\n",
    "    json.dump(data, file, indent=4)\n",
    "    "
   ]
  },
  {
   "cell_type": "code",
   "execution_count": 20,
   "metadata": {},
   "outputs": [
    {
     "name": "stderr",
     "output_type": "stream",
     "text": [
      "SECTORS: Failed to parse market summary\n"
     ]
    }
   ],
   "source": [
    "import yfinance as yf\n",
    "import json\n",
    "\n",
    "data = yf.Market(\"SECTORS\").summary\n",
    "with open(\"market.json\", 'w') as file:\n",
    "    json.dump(data, file, indent=4)"
   ]
  }
 ],
 "metadata": {
  "kernelspec": {
   "display_name": "Python 3",
   "language": "python",
   "name": "python3"
  },
  "language_info": {
   "codemirror_mode": {
    "name": "ipython",
    "version": 3
   },
   "file_extension": ".py",
   "mimetype": "text/x-python",
   "name": "python",
   "nbconvert_exporter": "python",
   "pygments_lexer": "ipython3",
   "version": "3.12.6"
  }
 },
 "nbformat": 4,
 "nbformat_minor": 2
}
